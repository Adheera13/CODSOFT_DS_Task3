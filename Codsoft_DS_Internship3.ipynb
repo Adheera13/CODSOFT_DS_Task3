{
  "nbformat": 4,
  "nbformat_minor": 0,
  "metadata": {
    "colab": {
      "provenance": [],
      "authorship_tag": "ABX9TyMjRFlgUqZ97rBaDdOINN8X",
      "include_colab_link": true
    },
    "kernelspec": {
      "name": "python3",
      "display_name": "Python 3"
    },
    "language_info": {
      "name": "python"
    }
  },
  "cells": [
    {
      "cell_type": "markdown",
      "metadata": {
        "id": "view-in-github",
        "colab_type": "text"
      },
      "source": [
        "<a href=\"https://colab.research.google.com/github/Adheera13/CODSOFT_DS_Task3/blob/main/Codsoft_DS_Internship3.ipynb\" target=\"_parent\"><img src=\"https://colab.research.google.com/assets/colab-badge.svg\" alt=\"Open In Colab\"/></a>"
      ]
    },
    {
      "cell_type": "code",
      "source": [
        "import pandas as pd\n",
        "import numpy as np\n",
        "from sklearn.model_selection import train_test_split\n",
        "from sklearn.preprocessing import OneHotEncoder\n",
        "from sklearn.ensemble import RandomForestRegressor\n",
        "from sklearn.metrics import mean_squared_error\n",
        "from sklearn.pipeline import Pipeline\n",
        "from sklearn.compose import ColumnTransformer\n",
        "\n",
        "# Load the dataset\n",
        "file_path = '/content/imdb.csv'\n",
        "data = pd.read_csv(file_path, encoding='ISO-8859-1')\n",
        "\n",
        "# Correct the 'Year' column (removing negative values and converting to integer)\n",
        "data['Year'] = pd.to_numeric(data['Year'], errors='coerce').astype('Int64')\n",
        "data['Year'] = data['Year'].apply(lambda x: abs(x) if pd.notnull(x) else x)\n",
        "\n",
        "# Convert 'Duration' to numeric (remove 'min' and convert to integer)\n",
        "data['Duration'] = data['Duration'].str.replace('min', '').str.strip()\n",
        "data['Duration'] = pd.to_numeric(data['Duration'], errors='coerce').astype('Int64')\n",
        "\n",
        "# Convert 'Votes' to numeric\n",
        "data['Votes'] = data['Votes'].str.replace(',', '').str.strip()\n",
        "data['Votes'] = pd.to_numeric(data['Votes'], errors='coerce').astype('Int64')\n",
        "\n",
        "# Drop rows with missing target variable 'Rating'\n",
        "data = data.dropna(subset=['Rating'])\n",
        "\n",
        "# Fill missing categorical values with 'Unknown'\n",
        "data.loc[:, 'Genre'] = data['Genre'].fillna('Unknown')\n",
        "data.loc[:, 'Director'] = data['Director'].fillna('Unknown')\n",
        "data.loc[:, 'Actor 1'] = data['Actor 1'].fillna('Unknown')\n",
        "data.loc[:, 'Actor 2'] = data['Actor 2'].fillna('Unknown')\n",
        "data.loc[:, 'Actor 3'] = data['Actor 3'].fillna('Unknown')\n",
        "\n",
        "# Fill missing 'Duration' values with the median duration\n",
        "data.loc[:, 'Duration'] = data['Duration'].fillna(data['Duration'].median())\n",
        "\n",
        "# Define the features and target variable\n",
        "X = data[['Year', 'Duration', 'Genre', 'Director', 'Actor 1', 'Actor 2', 'Actor 3', 'Votes']]\n",
        "y = data['Rating']\n",
        "\n",
        "# Ensure numeric columns are of numeric type\n",
        "X['Year'] = pd.to_numeric(X['Year'], errors='coerce')\n",
        "X['Duration'] = pd.to_numeric(X['Duration'], errors='coerce')\n",
        "X['Votes'] = pd.to_numeric(X['Votes'], errors='coerce')\n",
        "\n",
        "# OneHotEncoding for categorical features\n",
        "categorical_features = ['Genre', 'Director', 'Actor 1', 'Actor 2', 'Actor 3']\n",
        "numeric_features = ['Year', 'Duration', 'Votes']\n",
        "\n",
        "# Preprocessor pipeline\n",
        "preprocessor = ColumnTransformer(\n",
        "    transformers=[\n",
        "        ('num', 'passthrough', numeric_features),\n",
        "        ('cat', OneHotEncoder(handle_unknown='ignore'), categorical_features)\n",
        "    ])\n",
        "\n",
        "# Create the model pipeline\n",
        "model = Pipeline(steps=[('preprocessor', preprocessor),\n",
        "                        ('regressor', RandomForestRegressor(n_estimators=100, random_state=42))])\n",
        "\n",
        "# Split the data into training and test sets\n",
        "X_train, X_test, y_train, y_test = train_test_split(X, y, test_size=0.2, random_state=42)\n",
        "\n",
        "# Train the model\n",
        "model.fit(X_train, y_train)\n",
        "\n",
        "# Predict on the test set\n",
        "y_pred = model.predict(X_test)\n",
        "\n",
        "# Evaluate the model\n",
        "mse = mean_squared_error(y_test, y_pred)\n",
        "rmse = np.sqrt(mse)\n",
        "\n",
        "print(f\"Root Mean Squared Error (RMSE): {rmse}\")\n"
      ],
      "metadata": {
        "colab": {
          "base_uri": "https://localhost:8080/"
        },
        "id": "ZZCN0yV88kak",
        "outputId": "e39b3c5f-22a2-4a21-aef8-0a130943c209"
      },
      "execution_count": null,
      "outputs": [
        {
          "output_type": "stream",
          "name": "stderr",
          "text": [
            "<ipython-input-9-9c80d5419095>:44: SettingWithCopyWarning: \n",
            "A value is trying to be set on a copy of a slice from a DataFrame.\n",
            "Try using .loc[row_indexer,col_indexer] = value instead\n",
            "\n",
            "See the caveats in the documentation: https://pandas.pydata.org/pandas-docs/stable/user_guide/indexing.html#returning-a-view-versus-a-copy\n",
            "  X['Year'] = pd.to_numeric(X['Year'], errors='coerce')\n",
            "<ipython-input-9-9c80d5419095>:45: SettingWithCopyWarning: \n",
            "A value is trying to be set on a copy of a slice from a DataFrame.\n",
            "Try using .loc[row_indexer,col_indexer] = value instead\n",
            "\n",
            "See the caveats in the documentation: https://pandas.pydata.org/pandas-docs/stable/user_guide/indexing.html#returning-a-view-versus-a-copy\n",
            "  X['Duration'] = pd.to_numeric(X['Duration'], errors='coerce')\n",
            "<ipython-input-9-9c80d5419095>:46: SettingWithCopyWarning: \n",
            "A value is trying to be set on a copy of a slice from a DataFrame.\n",
            "Try using .loc[row_indexer,col_indexer] = value instead\n",
            "\n",
            "See the caveats in the documentation: https://pandas.pydata.org/pandas-docs/stable/user_guide/indexing.html#returning-a-view-versus-a-copy\n",
            "  X['Votes'] = pd.to_numeric(X['Votes'], errors='coerce')\n"
          ]
        },
        {
          "output_type": "stream",
          "name": "stdout",
          "text": [
            "Root Mean Squared Error (RMSE): 1.0829548345204019\n"
          ]
        }
      ]
    }
  ]
}